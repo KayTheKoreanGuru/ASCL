{
 "cells": [
  {
   "cell_type": "markdown",
   "id": "299f9105",
   "metadata": {},
   "source": [
    "## RNN"
   ]
  },
  {
   "cell_type": "code",
   "execution_count": 1,
   "id": "e9e67635",
   "metadata": {},
   "outputs": [],
   "source": [
    "import numpy as np\n",
    "import matplotlib.pyplot as plt\n",
    "from tensorflow import keras\n",
    "def generate_time_series(batch_size, n_steps):\n",
    "    freq1, freq2, offsets1, offsets2 = np.random.rand(4, batch_size, 1) \n",
    "    time = np.linspace(0, 1, n_steps)\n",
    "    series = 0.5 * np.sin((time - offsets1) * (freq1 * 10 + 10)) # wave 1 \n",
    "    series += 0.2 * np.sin((time - offsets2) * (freq2 * 20 + 20)) # + wave 2 \n",
    "    series += 0.1 * (np.random.rand(batch_size, n_steps) - 0.5) # + noise \n",
    "    return series[..., np.newaxis].astype(np.float32)"
   ]
  },
  {
   "cell_type": "code",
   "execution_count": 2,
   "id": "6c2ec4bc",
   "metadata": {},
   "outputs": [
    {
     "data": {
      "text/plain": [
       "(3, 10, 1)"
      ]
     },
     "execution_count": 2,
     "metadata": {},
     "output_type": "execute_result"
    }
   ],
   "source": [
    "generate_time_series(3, 10).shape"
   ]
  },
  {
   "cell_type": "code",
   "execution_count": 3,
   "id": "9208ad13",
   "metadata": {},
   "outputs": [
    {
     "data": {
      "text/plain": [
       "array([[[-0.03315604],\n",
       "        [-0.7064915 ],\n",
       "        [ 0.31390843],\n",
       "        [ 0.3583599 ],\n",
       "        [-0.05511978],\n",
       "        [-0.48663202],\n",
       "        [ 0.11855653],\n",
       "        [ 0.61940444],\n",
       "        [-0.2903757 ],\n",
       "        [-0.2905293 ]],\n",
       "\n",
       "       [[ 0.37602416],\n",
       "        [ 0.4043192 ],\n",
       "        [-0.5182046 ],\n",
       "        [-0.12479868],\n",
       "        [ 0.13505557],\n",
       "        [ 0.6138376 ],\n",
       "        [-0.45577657],\n",
       "        [-0.29752427],\n",
       "        [-0.06298657],\n",
       "        [ 0.6895092 ]],\n",
       "\n",
       "       [[-0.39457688],\n",
       "        [-0.36987016],\n",
       "        [ 0.09525451],\n",
       "        [ 0.28657797],\n",
       "        [ 0.1527533 ],\n",
       "        [-0.57912403],\n",
       "        [-0.14901514],\n",
       "        [ 0.6861202 ],\n",
       "        [ 0.01297871],\n",
       "        [-0.49636993]]], dtype=float32)"
      ]
     },
     "execution_count": 3,
     "metadata": {},
     "output_type": "execute_result"
    }
   ],
   "source": [
    "generate_time_series(3, 10)"
   ]
  },
  {
   "cell_type": "code",
   "execution_count": 4,
   "id": "e5a22897",
   "metadata": {},
   "outputs": [],
   "source": [
    "n_steps = 50\n",
    "series = generate_time_series(10000, n_steps + 1)\n",
    "X_train, y_train = series[:7000, :n_steps], series[:7000, -1]\n",
    "X_valid, y_valid = series[7000:9000, :n_steps], series[7000:9000, -1]\n",
    "X_test, y_test = series[9000:, :n_steps], series[9000:, -1]\n"
   ]
  },
  {
   "cell_type": "code",
   "execution_count": 8,
   "id": "8c917b8f",
   "metadata": {},
   "outputs": [
    {
     "data": {
      "text/plain": [
       "(7000, 50, 1)"
      ]
     },
     "execution_count": 8,
     "metadata": {},
     "output_type": "execute_result"
    }
   ],
   "source": [
    "X_train.shape"
   ]
  },
  {
   "cell_type": "code",
   "execution_count": 6,
   "id": "c048e8f2",
   "metadata": {},
   "outputs": [
    {
     "data": {
      "text/plain": [
       "[<matplotlib.lines.Line2D at 0x7f26f945c8e0>]"
      ]
     },
     "execution_count": 6,
     "metadata": {},
     "output_type": "execute_result"
    },
    {
     "data": {
      "image/png": "[encoded data removed]",
      "text/plain": [
       "<Figure size 432x288 with 1 Axes>"
      ]
     },
     "metadata": {
      "needs_background": "light"
     },
     "output_type": "display_data"
    }
   ],
   "source": [
    "plt.plot(X_train[4])"
   ]
  },
  {
   "cell_type": "markdown",
   "id": "bd9dcfdd",
   "metadata": {},
   "source": [
    "# baseline to evaluate a RNN"
   ]
  },
  {
   "cell_type": "code",
   "execution_count": 7,
   "id": "ce66ce36",
   "metadata": {},
   "outputs": [
    {
     "name": "stdout",
     "output_type": "stream",
     "text": [
      "[[-0.13335791]\n",
      " [ 0.23571673]\n",
      " [ 0.02752096]\n",
      " ...\n",
      " [ 0.01606568]\n",
      " [-0.5309172 ]\n",
      " [-0.5387684 ]]\n"
     ]
    },
    {
     "name": "stderr",
     "output_type": "stream",
     "text": [
      "2023-03-30 12:03:42.072918: W tensorflow/stream_executor/platform/default/dso_loader.cc:64] Could not load dynamic library 'libcudart.so.11.0'; dlerror: libcudart.so.11.0: cannot open shared object file: No such file or directory; LD_LIBRARY_PATH: /usr/lib/cuda/include:/usr/lib/cuda/lib64:\n",
      "2023-03-30 12:03:42.073091: W tensorflow/stream_executor/platform/default/dso_loader.cc:64] Could not load dynamic library 'libcublas.so.11'; dlerror: libcublas.so.11: cannot open shared object file: No such file or directory; LD_LIBRARY_PATH: /usr/lib/cuda/include:/usr/lib/cuda/lib64:\n",
      "2023-03-30 12:03:42.073221: W tensorflow/stream_executor/platform/default/dso_loader.cc:64] Could not load dynamic library 'libcublasLt.so.11'; dlerror: libcublasLt.so.11: cannot open shared object file: No such file or directory; LD_LIBRARY_PATH: /usr/lib/cuda/include:/usr/lib/cuda/lib64:\n",
      "2023-03-30 12:03:42.076807: W tensorflow/stream_executor/platform/default/dso_loader.cc:64] Could not load dynamic library 'libcusolver.so.11'; dlerror: libcusolver.so.11: cannot open shared object file: No such file or directory; LD_LIBRARY_PATH: /usr/lib/cuda/include:/usr/lib/cuda/lib64:\n",
      "2023-03-30 12:03:42.076956: W tensorflow/stream_executor/platform/default/dso_loader.cc:64] Could not load dynamic library 'libcusparse.so.11'; dlerror: libcusparse.so.11: cannot open shared object file: No such file or directory; LD_LIBRARY_PATH: /usr/lib/cuda/include:/usr/lib/cuda/lib64:\n",
      "2023-03-30 12:03:42.077160: W tensorflow/core/common_runtime/gpu/gpu_device.cc:1934] Cannot dlopen some GPU libraries. Please make sure the missing libraries mentioned above are installed properly if you would like to use GPU. Follow the guide at https://www.tensorflow.org/install/gpu for how to download and setup the required libraries for your platform.\n",
      "Skipping registering GPU devices...\n",
      "2023-03-30 12:03:42.077994: I tensorflow/core/platform/cpu_feature_guard.cc:193] This TensorFlow binary is optimized with oneAPI Deep Neural Network Library (oneDNN) to use the following CPU instructions in performance-critical operations:  AVX2 AVX512F AVX512_VNNI FMA\n",
      "To enable them in other operations, rebuild TensorFlow with the appropriate compiler flags.\n"
     ]
    },
    {
     "data": {
      "text/plain": [
       "0.020987209"
      ]
     },
     "execution_count": 7,
     "metadata": {},
     "output_type": "execute_result"
    }
   ],
   "source": [
    "y_pred = X_valid[:, -1]\n",
    "print(y_pred)\n",
    "np.mean(keras.losses.mean_squared_error(y_valid, y_pred))"
   ]
  },
  {
   "cell_type": "markdown",
   "id": "650441f0",
   "metadata": {},
   "source": [
    "# compare against a fully connected net"
   ]
  },
  {
   "cell_type": "code",
   "execution_count": 8,
   "id": "be4cfd6e",
   "metadata": {},
   "outputs": [
    {
     "name": "stdout",
     "output_type": "stream",
     "text": [
      "Epoch 1/20\n",
      "219/219 [==============================] - 1s 3ms/step - loss: 0.2197 - val_loss: 0.0847\n",
      "Epoch 2/20\n",
      "219/219 [==============================] - 0s 2ms/step - loss: 0.0530 - val_loss: 0.0363\n",
      "Epoch 3/20\n",
      "219/219 [==============================] - 1s 3ms/step - loss: 0.0267 - val_loss: 0.0210\n",
      "Epoch 4/20\n",
      "219/219 [==============================] - 1s 3ms/step - loss: 0.0168 - val_loss: 0.0139\n",
      "Epoch 5/20\n",
      "219/219 [==============================] - 1s 3ms/step - loss: 0.0121 - val_loss: 0.0104\n",
      "Epoch 6/20\n",
      "219/219 [==============================] - 1s 3ms/step - loss: 0.0096 - val_loss: 0.0084\n",
      "Epoch 7/20\n",
      "219/219 [==============================] - 1s 2ms/step - loss: 0.0081 - val_loss: 0.0072\n",
      "Epoch 8/20\n",
      "219/219 [==============================] - 1s 2ms/step - loss: 0.0071 - val_loss: 0.0064\n",
      "Epoch 9/20\n",
      "219/219 [==============================] - 1s 2ms/step - loss: 0.0064 - val_loss: 0.0057\n",
      "Epoch 10/20\n",
      "219/219 [==============================] - 1s 2ms/step - loss: 0.0058 - val_loss: 0.0052\n",
      "Epoch 11/20\n",
      "219/219 [==============================] - 0s 2ms/step - loss: 0.0053 - val_loss: 0.0047\n",
      "Epoch 12/20\n",
      "219/219 [==============================] - 1s 2ms/step - loss: 0.0049 - val_loss: 0.0044\n",
      "Epoch 13/20\n",
      "219/219 [==============================] - 1s 3ms/step - loss: 0.0046 - val_loss: 0.0042\n",
      "Epoch 14/20\n",
      "219/219 [==============================] - 1s 2ms/step - loss: 0.0044 - val_loss: 0.0040\n",
      "Epoch 15/20\n",
      "219/219 [==============================] - 1s 2ms/step - loss: 0.0042 - val_loss: 0.0038\n",
      "Epoch 16/20\n",
      "219/219 [==============================] - 1s 2ms/step - loss: 0.0041 - val_loss: 0.0037\n",
      "Epoch 17/20\n",
      "219/219 [==============================] - 1s 2ms/step - loss: 0.0039 - val_loss: 0.0036\n",
      "Epoch 18/20\n",
      "219/219 [==============================] - 1s 3ms/step - loss: 0.0039 - val_loss: 0.0035\n",
      "Epoch 19/20\n",
      "219/219 [==============================] - 0s 2ms/step - loss: 0.0038 - val_loss: 0.0034\n",
      "Epoch 20/20\n",
      "219/219 [==============================] - 1s 3ms/step - loss: 0.0037 - val_loss: 0.0034\n",
      "32/32 [==============================] - 0s 2ms/step - loss: 0.0038\n",
      "MSE on test set: 0.004\n"
     ]
    }
   ],
   "source": [
    "model = keras.models.Sequential([\n",
    "        keras.layers.Flatten(input_shape=[50, 1]),\n",
    "        keras.layers.Dense(1)\n",
    "])\n",
    "\n",
    "\n",
    "model.compile(loss=\"mse\", optimizer=\"adam\")\n",
    "\n",
    "history = model.fit(X_train, y_train, epochs=20,\n",
    "                    validation_data=(X_valid, y_valid))\n",
    "\n",
    "mse_test = model.evaluate(X_test, y_test)\n",
    "\n",
    "print(f\"MSE on test set: {mse_test:.3f}\")\n"
   ]
  },
  {
   "cell_type": "markdown",
   "id": "f0f1b3fa",
   "metadata": {},
   "source": [
    "# A simple RNN\n",
    "\n",
    "It contains a single layer, with a single neuron. We do not need to specify the length of the input sequences (unlike in the previous fully connected model), since a recurrent neural network can process any number of time steps (this is why we set the first input dimension to None)."
   ]
  },
  {
   "cell_type": "code",
   "execution_count": 9,
   "id": "113f7fa4",
   "metadata": {},
   "outputs": [
    {
     "name": "stdout",
     "output_type": "stream",
     "text": [
      "Epoch 1/20\n",
      "219/219 [==============================] - 4s 18ms/step - loss: 0.1110 - val_loss: 0.0958\n",
      "Epoch 2/20\n",
      "219/219 [==============================] - 4s 19ms/step - loss: 0.0837 - val_loss: 0.0707\n",
      "Epoch 3/20\n",
      "219/219 [==============================] - 4s 19ms/step - loss: 0.0598 - val_loss: 0.0482\n",
      "Epoch 4/20\n",
      "219/219 [==============================] - 4s 18ms/step - loss: 0.0393 - val_loss: 0.0304\n",
      "Epoch 5/20\n",
      "219/219 [==============================] - 4s 19ms/step - loss: 0.0249 - val_loss: 0.0200\n",
      "Epoch 6/20\n",
      "219/219 [==============================] - 4s 19ms/step - loss: 0.0180 - val_loss: 0.0162\n",
      "Epoch 7/20\n",
      "219/219 [==============================] - 4s 19ms/step - loss: 0.0158 - val_loss: 0.0151\n",
      "Epoch 8/20\n",
      "219/219 [==============================] - 4s 19ms/step - loss: 0.0151 - val_loss: 0.0145\n",
      "Epoch 9/20\n",
      "219/219 [==============================] - 4s 18ms/step - loss: 0.0145 - val_loss: 0.0140\n",
      "Epoch 10/20\n",
      "219/219 [==============================] - 4s 19ms/step - loss: 0.0140 - val_loss: 0.0135\n",
      "Epoch 11/20\n",
      "219/219 [==============================] - 4s 19ms/step - loss: 0.0136 - val_loss: 0.0130\n",
      "Epoch 12/20\n",
      "219/219 [==============================] - 4s 18ms/step - loss: 0.0132 - val_loss: 0.0127\n",
      "Epoch 13/20\n",
      "219/219 [==============================] - 4s 19ms/step - loss: 0.0129 - val_loss: 0.0123\n",
      "Epoch 14/20\n",
      "219/219 [==============================] - 4s 19ms/step - loss: 0.0126 - val_loss: 0.0120\n",
      "Epoch 15/20\n",
      "219/219 [==============================] - 4s 18ms/step - loss: 0.0123 - val_loss: 0.0118\n",
      "Epoch 16/20\n",
      "219/219 [==============================] - 4s 19ms/step - loss: 0.0121 - val_loss: 0.0116\n",
      "Epoch 17/20\n",
      "219/219 [==============================] - 4s 19ms/step - loss: 0.0120 - val_loss: 0.0115\n",
      "Epoch 18/20\n",
      "219/219 [==============================] - 4s 19ms/step - loss: 0.0119 - val_loss: 0.0114\n",
      "Epoch 19/20\n",
      "219/219 [==============================] - 4s 17ms/step - loss: 0.0118 - val_loss: 0.0113\n",
      "Epoch 20/20\n",
      "219/219 [==============================] - 3s 14ms/step - loss: 0.0118 - val_loss: 0.0113\n",
      "32/32 [==============================] - 0s 5ms/step - loss: 0.0117\n",
      "MSE on test set: 0.012\n"
     ]
    }
   ],
   "source": [
    "model = keras.models.Sequential([\n",
    "      keras.layers.SimpleRNN(1, activation='tanh', return_sequences=False, input_shape=[None, 1])\n",
    "])\n",
    "\n",
    "model.compile(loss=\"mse\", optimizer=\"adam\")\n",
    "\n",
    "history = model.fit(X_train, y_train, epochs=20,\n",
    "                    validation_data=(X_valid, y_valid))\n",
    "\n",
    "mse_test = model.evaluate(X_test, y_test)\n",
    "\n",
    "print(f\"MSE on test set: {mse_test:.3f}\")"
   ]
  },
  {
   "cell_type": "markdown",
   "id": "70f15281",
   "metadata": {},
   "source": [
    "# Deep RNN"
   ]
  },
  {
   "cell_type": "code",
   "execution_count": 10,
   "id": "2ea7bdd0",
   "metadata": {},
   "outputs": [
    {
     "name": "stdout",
     "output_type": "stream",
     "text": [
      "Model: \"sequential_2\"\n",
      "_________________________________________________________________\n",
      " Layer (type)                Output Shape              Param #   \n",
      "=================================================================\n",
      " simple_rnn_1 (SimpleRNN)    (None, None, 20)          440       \n",
      "                                                                 \n",
      " simple_rnn_2 (SimpleRNN)    (None, None, 20)          820       \n",
      "                                                                 \n",
      " simple_rnn_3 (SimpleRNN)    (None, 1)                 22        \n",
      "                                                                 \n",
      "=================================================================\n",
      "Total params: 1,282\n",
      "Trainable params: 1,282\n",
      "Non-trainable params: 0\n",
      "_________________________________________________________________\n",
      "Epoch 1/20\n",
      "219/219 [==============================] - 10s 41ms/step - loss: 0.0421 - val_loss: 0.0061\n",
      "Epoch 2/20\n",
      "219/219 [==============================] - 10s 44ms/step - loss: 0.0047 - val_loss: 0.0036\n",
      "Epoch 3/20\n",
      "219/219 [==============================] - 9s 42ms/step - loss: 0.0035 - val_loss: 0.0030\n",
      "Epoch 4/20\n",
      "219/219 [==============================] - 8s 37ms/step - loss: 0.0031 - val_loss: 0.0028\n",
      "Epoch 5/20\n",
      "219/219 [==============================] - 9s 43ms/step - loss: 0.0030 - val_loss: 0.0027\n",
      "Epoch 6/20\n",
      "219/219 [==============================] - 11s 49ms/step - loss: 0.0030 - val_loss: 0.0029\n",
      "Epoch 7/20\n",
      "219/219 [==============================] - 12s 55ms/step - loss: 0.0030 - val_loss: 0.0028\n",
      "Epoch 8/20\n",
      "219/219 [==============================] - 12s 53ms/step - loss: 0.0029 - val_loss: 0.0028\n",
      "Epoch 9/20\n",
      "219/219 [==============================] - 12s 56ms/step - loss: 0.0029 - val_loss: 0.0026\n",
      "Epoch 10/20\n",
      "219/219 [==============================] - 12s 55ms/step - loss: 0.0028 - val_loss: 0.0027\n",
      "Epoch 11/20\n",
      "219/219 [==============================] - 12s 55ms/step - loss: 0.0028 - val_loss: 0.0026\n",
      "Epoch 12/20\n",
      "219/219 [==============================] - 12s 55ms/step - loss: 0.0028 - val_loss: 0.0028\n",
      "Epoch 13/20\n",
      "219/219 [==============================] - 12s 54ms/step - loss: 0.0028 - val_loss: 0.0026\n",
      "Epoch 14/20\n",
      "219/219 [==============================] - 12s 56ms/step - loss: 0.0028 - val_loss: 0.0028\n",
      "Epoch 15/20\n",
      "219/219 [==============================] - 12s 55ms/step - loss: 0.0028 - val_loss: 0.0028\n",
      "Epoch 16/20\n",
      "219/219 [==============================] - 12s 54ms/step - loss: 0.0028 - val_loss: 0.0027\n",
      "Epoch 17/20\n",
      "219/219 [==============================] - 12s 55ms/step - loss: 0.0028 - val_loss: 0.0025\n",
      "Epoch 18/20\n",
      "219/219 [==============================] - 12s 53ms/step - loss: 0.0027 - val_loss: 0.0025\n",
      "Epoch 19/20\n",
      "219/219 [==============================] - 12s 54ms/step - loss: 0.0028 - val_loss: 0.0026\n",
      "Epoch 20/20\n",
      "219/219 [==============================] - 12s 56ms/step - loss: 0.0028 - val_loss: 0.0026\n",
      "32/32 [==============================] - 0s 15ms/step - loss: 0.0028\n",
      "MSE on test set: 0.003\n"
     ]
    }
   ],
   "source": [
    "model = keras.models.Sequential([\n",
    "        keras.layers.SimpleRNN(20, return_sequences=True, input_shape=[None, 1]),\n",
    "        keras.layers.SimpleRNN(20, return_sequences=True), \n",
    "        keras.layers.SimpleRNN(1) # return_sequence=False (univariate time series)\n",
    "])\n",
    "model.summary()\n",
    "\n",
    "model.compile(loss=\"mse\", optimizer=\"adam\")\n",
    "\n",
    "history = model.fit(X_train, y_train, epochs=20,\n",
    "                    validation_data=(X_valid, y_valid))\n",
    "\n",
    "mse_test = model.evaluate(X_test, y_test)\n",
    "\n",
    "print(f\"MSE on test set: {mse_test:.3f}\")"
   ]
  },
  {
   "cell_type": "markdown",
   "id": "8aea6f30",
   "metadata": {},
   "source": [
    "## If we want to use activations other than tanh then use a dense layer at the end"
   ]
  },
  {
   "cell_type": "code",
   "execution_count": 11,
   "id": "d143af17",
   "metadata": {},
   "outputs": [
    {
     "name": "stdout",
     "output_type": "stream",
     "text": [
      "Model: \"sequential_3\"\n",
      "_________________________________________________________________\n",
      " Layer (type)                Output Shape              Param #   \n",
      "=================================================================\n",
      " simple_rnn_4 (SimpleRNN)    (None, None, 20)          440       \n",
      "                                                                 \n",
      " simple_rnn_5 (SimpleRNN)    (None, 20)                820       \n",
      "                                                                 \n",
      " dense_1 (Dense)             (None, 1)                 21        \n",
      "                                                                 \n",
      "=================================================================\n",
      "Total params: 1,281\n",
      "Trainable params: 1,281\n",
      "Non-trainable params: 0\n",
      "_________________________________________________________________\n",
      "Epoch 1/20\n",
      "219/219 [==============================] - 7s 29ms/step - loss: 0.0260 - val_loss: 0.0054\n",
      "Epoch 2/20\n",
      "219/219 [==============================] - 8s 35ms/step - loss: 0.0046 - val_loss: 0.0041\n",
      "Epoch 3/20\n",
      "219/219 [==============================] - 8s 36ms/step - loss: 0.0037 - val_loss: 0.0032\n",
      "Epoch 4/20\n",
      "219/219 [==============================] - 8s 35ms/step - loss: 0.0034 - val_loss: 0.0030\n",
      "Epoch 5/20\n",
      "219/219 [==============================] - 7s 34ms/step - loss: 0.0033 - val_loss: 0.0031\n",
      "Epoch 6/20\n",
      "219/219 [==============================] - 8s 35ms/step - loss: 0.0032 - val_loss: 0.0030\n",
      "Epoch 7/20\n",
      "219/219 [==============================] - 8s 35ms/step - loss: 0.0031 - val_loss: 0.0034\n",
      "Epoch 8/20\n",
      "219/219 [==============================] - 8s 37ms/step - loss: 0.0032 - val_loss: 0.0028\n",
      "Epoch 9/20\n",
      "219/219 [==============================] - 8s 37ms/step - loss: 0.0030 - val_loss: 0.0028\n",
      "Epoch 10/20\n",
      "219/219 [==============================] - 8s 37ms/step - loss: 0.0031 - val_loss: 0.0029\n",
      "Epoch 11/20\n",
      "219/219 [==============================] - 8s 37ms/step - loss: 0.0032 - val_loss: 0.0030\n",
      "Epoch 12/20\n",
      "219/219 [==============================] - 5s 24ms/step - loss: 0.0031 - val_loss: 0.0030\n",
      "Epoch 13/20\n",
      "219/219 [==============================] - 5s 24ms/step - loss: 0.0030 - val_loss: 0.0029\n",
      "Epoch 14/20\n",
      "219/219 [==============================] - 5s 24ms/step - loss: 0.0030 - val_loss: 0.0027\n",
      "Epoch 15/20\n",
      "219/219 [==============================] - 5s 23ms/step - loss: 0.0030 - val_loss: 0.0035\n",
      "Epoch 16/20\n",
      "219/219 [==============================] - 5s 23ms/step - loss: 0.0030 - val_loss: 0.0029\n",
      "Epoch 17/20\n",
      "219/219 [==============================] - 5s 24ms/step - loss: 0.0029 - val_loss: 0.0028\n",
      "Epoch 18/20\n",
      "219/219 [==============================] - 5s 23ms/step - loss: 0.0029 - val_loss: 0.0028\n",
      "Epoch 19/20\n",
      "219/219 [==============================] - 5s 24ms/step - loss: 0.0030 - val_loss: 0.0030\n",
      "Epoch 20/20\n",
      "219/219 [==============================] - 5s 24ms/step - loss: 0.0028 - val_loss: 0.0033\n",
      "32/32 [==============================] - 0s 9ms/step - loss: 0.0035\n",
      "MSE on test set: 0.003\n"
     ]
    }
   ],
   "source": [
    "model = keras.models.Sequential([\n",
    "        keras.layers.SimpleRNN(20, return_sequences=True, input_shape=[None, 1]),\n",
    "        keras.layers.SimpleRNN(20, return_sequences=False), \n",
    "        keras.layers.Dense(1) # dense layer\n",
    "])\n",
    "model.summary()\n",
    "\n",
    "model.compile(loss=\"mse\", optimizer=\"adam\")\n",
    "\n",
    "history = model.fit(X_train, y_train, epochs=20,\n",
    "                    validation_data=(X_valid, y_valid))\n",
    "\n",
    "mse_test = model.evaluate(X_test, y_test)\n",
    "\n",
    "print(f\"MSE on test set: {mse_test:.3f}\")"
   ]
  },
  {
   "cell_type": "markdown",
   "id": "891ac1bd",
   "metadata": {},
   "source": [
    "# Previous models predicted only the next time step\n",
    "\n",
    "We want to predict multiple timesteps in the future"
   ]
  },
  {
   "cell_type": "markdown",
   "id": "8ac33561",
   "metadata": {},
   "source": [
    "#### we can circulate back our immediate prediction"
   ]
  },
  {
   "cell_type": "code",
   "execution_count": 12,
   "id": "42e0c4e9",
   "metadata": {},
   "outputs": [
    {
     "name": "stdout",
     "output_type": "stream",
     "text": [
      "1/1 [==============================] - 0s 193ms/step\n",
      "1/1 [==============================] - 0s 30ms/step\n",
      "1/1 [==============================] - 0s 26ms/step\n",
      "1/1 [==============================] - 0s 24ms/step\n",
      "1/1 [==============================] - 0s 29ms/step\n",
      "1/1 [==============================] - 0s 23ms/step\n",
      "1/1 [==============================] - 0s 25ms/step\n",
      "1/1 [==============================] - 0s 24ms/step\n",
      "1/1 [==============================] - 0s 24ms/step\n",
      "1/1 [==============================] - 0s 24ms/step\n",
      "[[[ 0.63424784]\n",
      "  [ 0.6370378 ]\n",
      "  [ 0.5881695 ]\n",
      "  [ 0.54994667]\n",
      "  [ 0.45775065]\n",
      "  [ 0.34441778]\n",
      "  [ 0.2370515 ]\n",
      "  [ 0.11810933]\n",
      "  [ 0.00441778]\n",
      "  [-0.07041311]]]\n"
     ]
    }
   ],
   "source": [
    "series = generate_time_series(1, n_steps + 10)\n",
    "X_new, Y_new = series[:, :n_steps], series[:, n_steps:] \n",
    "X = X_new\n",
    "for step_ahead in range(10):\n",
    "        y_pred_one = model.predict(X[:, step_ahead:])[:, np.newaxis, :]\n",
    "        X = np.concatenate([X, y_pred_one], axis=1)\n",
    "Y_pred = X[:, n_steps:]\n",
    "print(Y_pred)"
   ]
  },
  {
   "cell_type": "code",
   "execution_count": 13,
   "id": "1fc34c0a",
   "metadata": {},
   "outputs": [
    {
     "data": {
      "text/plain": [
       "[<matplotlib.lines.Line2D at 0x7f26bff6f760>]"
      ]
     },
     "execution_count": 13,
     "metadata": {},
     "output_type": "execute_result"
    },
    {
     "data": {
      "image/png": "[encoded data removed]",
      "text/plain": [
       "<Figure size 432x288 with 1 Axes>"
      ]
     },
     "metadata": {
      "needs_background": "light"
     },
     "output_type": "display_data"
    }
   ],
   "source": [
    "plt.plot(X_new[0],'b')\n",
    "plt.plot(X[0],'r.')"
   ]
  },
  {
   "cell_type": "markdown",
   "id": "29a37349",
   "metadata": {},
   "source": [
    "# Using LSTM\n"
   ]
  },
  {
   "cell_type": "code",
   "execution_count": 14,
   "id": "ebe9fbbf",
   "metadata": {},
   "outputs": [
    {
     "name": "stdout",
     "output_type": "stream",
     "text": [
      "Model: \"sequential_4\"\n",
      "_________________________________________________________________\n",
      " Layer (type)                Output Shape              Param #   \n",
      "=================================================================\n",
      " lstm (LSTM)                 (None, None, 20)          1760      \n",
      "                                                                 \n",
      " lstm_1 (LSTM)               (None, 20)                3280      \n",
      "                                                                 \n",
      " dense_2 (Dense)             (None, 1)                 21        \n",
      "                                                                 \n",
      "=================================================================\n",
      "Total params: 5,061\n",
      "Trainable params: 5,061\n",
      "Non-trainable params: 0\n",
      "_________________________________________________________________\n",
      "Epoch 1/20\n",
      "219/219 [==============================] - 12s 45ms/step - loss: 0.0422 - val_loss: 0.0246\n",
      "Epoch 2/20\n",
      "219/219 [==============================] - 12s 57ms/step - loss: 0.0165 - val_loss: 0.0092\n",
      "Epoch 3/20\n",
      "219/219 [==============================] - 13s 61ms/step - loss: 0.0054 - val_loss: 0.0037\n",
      "Epoch 4/20\n",
      "219/219 [==============================] - 13s 59ms/step - loss: 0.0033 - val_loss: 0.0029\n",
      "Epoch 5/20\n",
      "219/219 [==============================] - 14s 63ms/step - loss: 0.0031 - val_loss: 0.0034\n",
      "Epoch 6/20\n",
      "219/219 [==============================] - 14s 62ms/step - loss: 0.0030 - val_loss: 0.0026\n",
      "Epoch 7/20\n",
      "219/219 [==============================] - 14s 63ms/step - loss: 0.0029 - val_loss: 0.0029\n",
      "Epoch 8/20\n",
      "219/219 [==============================] - 14s 63ms/step - loss: 0.0029 - val_loss: 0.0029\n",
      "Epoch 9/20\n",
      "219/219 [==============================] - 14s 65ms/step - loss: 0.0028 - val_loss: 0.0025\n",
      "Epoch 10/20\n",
      "219/219 [==============================] - 14s 64ms/step - loss: 0.0027 - val_loss: 0.0026\n",
      "Epoch 11/20\n",
      "219/219 [==============================] - 14s 65ms/step - loss: 0.0027 - val_loss: 0.0026\n",
      "Epoch 12/20\n",
      "219/219 [==============================] - 9s 43ms/step - loss: 0.0027 - val_loss: 0.0025\n",
      "Epoch 13/20\n",
      "219/219 [==============================] - 10s 44ms/step - loss: 0.0027 - val_loss: 0.0024\n",
      "Epoch 14/20\n",
      "219/219 [==============================] - 10s 44ms/step - loss: 0.0026 - val_loss: 0.0024\n",
      "Epoch 15/20\n",
      "219/219 [==============================] - 9s 43ms/step - loss: 0.0026 - val_loss: 0.0023\n",
      "Epoch 16/20\n",
      "219/219 [==============================] - 9s 43ms/step - loss: 0.0026 - val_loss: 0.0024\n",
      "Epoch 17/20\n",
      "219/219 [==============================] - 9s 42ms/step - loss: 0.0026 - val_loss: 0.0026\n",
      "Epoch 18/20\n",
      "219/219 [==============================] - 10s 44ms/step - loss: 0.0026 - val_loss: 0.0023\n",
      "Epoch 19/20\n",
      "219/219 [==============================] - 10s 44ms/step - loss: 0.0026 - val_loss: 0.0022\n",
      "Epoch 20/20\n",
      "219/219 [==============================] - 10s 43ms/step - loss: 0.0026 - val_loss: 0.0022\n",
      "32/32 [==============================] - 0s 14ms/step - loss: 0.0026\n",
      "MSE on test set: 0.003\n"
     ]
    }
   ],
   "source": [
    "\n",
    "model = keras.models.Sequential([\n",
    "        keras.layers.LSTM(20, return_sequences=True, input_shape=[None, 1]),\n",
    "        keras.layers.LSTM(20, return_sequences=False),\n",
    "        keras.layers.Dense(1) # dense layer\n",
    "])\n",
    "model.summary()\n",
    "\n",
    "model.compile(loss=\"mse\", optimizer=\"adam\")\n",
    "\n",
    "history = model.fit(X_train, y_train, epochs=20,\n",
    "                    validation_data=(X_valid, y_valid))\n",
    "\n",
    "mse_test = model.evaluate(X_test, y_test)\n",
    "\n",
    "print(f\"MSE on test set: {mse_test:.3f}\")\n"
   ]
  },
  {
   "cell_type": "code",
   "execution_count": 15,
   "id": "060994bc",
   "metadata": {},
   "outputs": [
    {
     "name": "stdout",
     "output_type": "stream",
     "text": [
      "1/1 [==============================] - 1s 573ms/step\n",
      "1/1 [==============================] - 0s 35ms/step\n",
      "1/1 [==============================] - 0s 29ms/step\n",
      "1/1 [==============================] - 0s 29ms/step\n",
      "1/1 [==============================] - 0s 22ms/step\n",
      "1/1 [==============================] - 0s 28ms/step\n",
      "1/1 [==============================] - 0s 19ms/step\n",
      "1/1 [==============================] - 0s 26ms/step\n",
      "1/1 [==============================] - 0s 29ms/step\n",
      "1/1 [==============================] - 0s 29ms/step\n",
      "[[[0.19210349]\n",
      "  [0.23886907]\n",
      "  [0.2577027 ]\n",
      "  [0.2845569 ]\n",
      "  [0.33612323]\n",
      "  [0.39698446]\n",
      "  [0.42677423]\n",
      "  [0.38652322]\n",
      "  [0.26351935]\n",
      "  [0.07485988]]]\n"
     ]
    }
   ],
   "source": [
    "series = generate_time_series(1, n_steps + 10)\n",
    "X_new, Y_new = series[:, :n_steps], series[:, n_steps:] \n",
    "X = X_new\n",
    "for step_ahead in range(10):\n",
    "        y_pred_one = model.predict(X[:, step_ahead:])[:, np.newaxis, :]\n",
    "        X = np.concatenate([X, y_pred_one], axis=1)\n",
    "Y_pred = X[:, n_steps:]\n",
    "print(Y_pred)"
   ]
  },
  {
   "cell_type": "code",
   "execution_count": 16,
   "id": "ad102387",
   "metadata": {},
   "outputs": [
    {
     "data": {
      "text/plain": [
       "[<matplotlib.lines.Line2D at 0x7f26c44ec8e0>]"
      ]
     },
     "execution_count": 16,
     "metadata": {},
     "output_type": "execute_result"
    },
    {
     "data": {
      "image/png": "[encoded data removed]",
      "text/plain": [
       "<Figure size 432x288 with 1 Axes>"
      ]
     },
     "metadata": {
      "needs_background": "light"
     },
     "output_type": "display_data"
    }
   ],
   "source": [
    "plt.plot(X_new[0],'b')\n",
    "plt.plot(X[0],'r.')"
   ]
  },
  {
   "cell_type": "markdown",
   "id": "5338a550",
   "metadata": {},
   "source": [
    "# Denoising convolutional autoencoder\n",
    "\n"
   ]
  },
  {
   "cell_type": "code",
   "execution_count": 17,
   "id": "bb4d3fd0",
   "metadata": {},
   "outputs": [
    {
     "name": "stdout",
     "output_type": "stream",
     "text": [
      "(2, 2, 2, 1)\n",
      "(2, 4, 4, 1)\n"
     ]
    }
   ],
   "source": [
    "import tensorflow as tf\n",
    "\n",
    "# Define a 2x2 input tensor with no channel dimension\n",
    "input_tensor = tf.constant([\n",
    "    [[1, 2], [3, 4]],\n",
    "    [[5, 6], [7, 8]]\n",
    "], dtype=tf.float32)\n",
    "\n",
    "# Add a channel dimension to the input tensor\n",
    "input_tensor = tf.expand_dims(input_tensor, axis=-1)\n",
    "print(input_tensor.shape)\n",
    "\n",
    "# Define an UpSampling2D layer with size 2\n",
    "upsample = tf.keras.layers.UpSampling2D(size=2)\n",
    "\n",
    "# Apply the layer to the input tensor\n",
    "output_tensor = upsample(input_tensor)\n",
    "\n",
    "# Output tensor shape: (2, 4, 4, 1)\n",
    "print(output_tensor.shape)\n"
   ]
  },
  {
   "cell_type": "code",
   "execution_count": 19,
   "id": "9bf9729b",
   "metadata": {},
   "outputs": [
    {
     "name": "stdout",
     "output_type": "stream",
     "text": [
      "tf.Tensor(\n",
      "[[[[1.]\n",
      "   [2.]]\n",
      "\n",
      "  [[3.]\n",
      "   [4.]]]\n",
      "\n",
      "\n",
      " [[[5.]\n",
      "   [6.]]\n",
      "\n",
      "  [[7.]\n",
      "   [8.]]]], shape=(2, 2, 2, 1), dtype=float32)\n"
     ]
    }
   ],
   "source": [
    "print(input_tensor)"
   ]
  },
  {
   "cell_type": "code",
   "execution_count": 18,
   "id": "4d9e4a60",
   "metadata": {},
   "outputs": [
    {
     "name": "stdout",
     "output_type": "stream",
     "text": [
      "tf.Tensor(\n",
      "[[[[1.]\n",
      "   [1.]\n",
      "   [2.]\n",
      "   [2.]]\n",
      "\n",
      "  [[1.]\n",
      "   [1.]\n",
      "   [2.]\n",
      "   [2.]]\n",
      "\n",
      "  [[3.]\n",
      "   [3.]\n",
      "   [4.]\n",
      "   [4.]]\n",
      "\n",
      "  [[3.]\n",
      "   [3.]\n",
      "   [4.]\n",
      "   [4.]]]\n",
      "\n",
      "\n",
      " [[[5.]\n",
      "   [5.]\n",
      "   [6.]\n",
      "   [6.]]\n",
      "\n",
      "  [[5.]\n",
      "   [5.]\n",
      "   [6.]\n",
      "   [6.]]\n",
      "\n",
      "  [[7.]\n",
      "   [7.]\n",
      "   [8.]\n",
      "   [8.]]\n",
      "\n",
      "  [[7.]\n",
      "   [7.]\n",
      "   [8.]\n",
      "   [8.]]]], shape=(2, 4, 4, 1), dtype=float32)\n"
     ]
    }
   ],
   "source": [
    "print(output_tensor)"
   ]
  },
  {
   "cell_type": "code",
   "execution_count": 18,
   "id": "a3ffa77e",
   "metadata": {},
   "outputs": [],
   "source": [
    "from keras.layers import Input, Conv2D, MaxPooling2D, UpSampling2D\n",
    "from keras.models import Model\n",
    "from keras.datasets import mnist\n",
    "import numpy as np\n",
    "import matplotlib.pyplot as plt\n",
    "\n",
    "\n",
    "(x_train, _), (x_test, _) = mnist.load_data()\n",
    "\n",
    "\n",
    "x_train = x_train.astype('float32') / 255.\n",
    "x_test = x_test.astype('float32') / 255.\n",
    "x_train = np.reshape(x_train, (len(x_train), 28, 28, 1))\n",
    "x_test = np.reshape(x_test, (len(x_test), 28, 28, 1))\n",
    "\n",
    "# Adding noise \n",
    "noise_factor = 0.5\n",
    "x_train_noisy = x_train + noise_factor * np.random.normal(loc=0.0, scale=1.0, size=x_train.shape)\n",
    "x_test_noisy = x_test + noise_factor * np.random.normal(loc=0.0, scale=1.0, size=x_test.shape)\n",
    "x_train_noisy = np.clip(x_train_noisy, 0., 1.) # clipped between 0 and 1 to ensure valid pixel intensity range.\n",
    "x_test_noisy = np.clip(x_test_noisy, 0., 1.) # clipped between 0 and 1 to ensure valid pixel intensity range."
   ]
  },
  {
   "cell_type": "code",
   "execution_count": 19,
   "id": "5f4e51b0",
   "metadata": {},
   "outputs": [
    {
     "data": {
      "text/plain": [
       "<matplotlib.image.AxesImage at 0x7f264cef7730>"
      ]
     },
     "execution_count": 19,
     "metadata": {},
     "output_type": "execute_result"
    },
    {
     "data": {
      "image/png": "[encoded data removed]",
      "text/plain": [
       "<Figure size 432x288 with 1 Axes>"
      ]
     },
     "metadata": {
      "needs_background": "light"
     },
     "output_type": "display_data"
    }
   ],
   "source": [
    "plt.imshow(x_train[0], cmap='gray_r')"
   ]
  },
  {
   "cell_type": "code",
   "execution_count": 20,
   "id": "2903c69c",
   "metadata": {},
   "outputs": [
    {
     "data": {
      "text/plain": [
       "<matplotlib.image.AxesImage at 0x7f26c5483610>"
      ]
     },
     "execution_count": 20,
     "metadata": {},
     "output_type": "execute_result"
    },
    {
     "data": {
      "image/png": "[encoded data removed]",
      "text/plain": [
       "<Figure size 432x288 with 1 Axes>"
      ]
     },
     "metadata": {
      "needs_background": "light"
     },
     "output_type": "display_data"
    }
   ],
   "source": [
    "plt.imshow(x_train_noisy[0], cmap='gray_r')"
   ]
  },
  {
   "cell_type": "code",
   "execution_count": 21,
   "id": "874bcfa0",
   "metadata": {},
   "outputs": [
    {
     "name": "stdout",
     "output_type": "stream",
     "text": [
      "Model: \"model\"\n",
      "_________________________________________________________________\n",
      " Layer (type)                Output Shape              Param #   \n",
      "=================================================================\n",
      " input_1 (InputLayer)        [(None, 28, 28, 1)]       0         \n",
      "                                                                 \n",
      " conv2d (Conv2D)             (None, 28, 28, 32)        320       \n",
      "                                                                 \n",
      " max_pooling2d (MaxPooling2D  (None, 14, 14, 32)       0         \n",
      " )                                                               \n",
      "                                                                 \n",
      " conv2d_1 (Conv2D)           (None, 14, 14, 32)        9248      \n",
      "                                                                 \n",
      " max_pooling2d_1 (MaxPooling  (None, 7, 7, 32)         0         \n",
      " 2D)                                                             \n",
      "                                                                 \n",
      " conv2d_2 (Conv2D)           (None, 7, 7, 32)          9248      \n",
      "                                                                 \n",
      " up_sampling2d_1 (UpSampling  (None, 14, 14, 32)       0         \n",
      " 2D)                                                             \n",
      "                                                                 \n",
      " conv2d_3 (Conv2D)           (None, 14, 14, 32)        9248      \n",
      "                                                                 \n",
      " up_sampling2d_2 (UpSampling  (None, 28, 28, 32)       0         \n",
      " 2D)                                                             \n",
      "                                                                 \n",
      " conv2d_4 (Conv2D)           (None, 28, 28, 1)         289       \n",
      "                                                                 \n",
      "=================================================================\n",
      "Total params: 28,353\n",
      "Trainable params: 28,353\n",
      "Non-trainable params: 0\n",
      "_________________________________________________________________\n",
      "Epoch 1/10\n",
      "469/469 [==============================] - 23s 48ms/step - loss: 0.1676 - val_loss: 0.1174\n",
      "Epoch 2/10\n",
      "469/469 [==============================] - 19s 41ms/step - loss: 0.1143 - val_loss: 0.1092\n",
      "Epoch 3/10\n",
      "469/469 [==============================] - 18s 38ms/step - loss: 0.1080 - val_loss: 0.1057\n",
      "Epoch 4/10\n",
      "469/469 [==============================] - 18s 38ms/step - loss: 0.1048 - val_loss: 0.1028\n",
      "Epoch 5/10\n",
      "469/469 [==============================] - 18s 39ms/step - loss: 0.1030 - val_loss: 0.1013\n",
      "Epoch 6/10\n",
      "469/469 [==============================] - 18s 39ms/step - loss: 0.1017 - val_loss: 0.1001\n",
      "Epoch 7/10\n",
      "469/469 [==============================] - 18s 39ms/step - loss: 0.1007 - val_loss: 0.0992\n",
      "Epoch 8/10\n",
      "469/469 [==============================] - 18s 39ms/step - loss: 0.0999 - val_loss: 0.0994\n",
      "Epoch 9/10\n",
      "469/469 [==============================] - 18s 39ms/step - loss: 0.0994 - val_loss: 0.0983\n",
      "Epoch 10/10\n",
      "469/469 [==============================] - 18s 38ms/step - loss: 0.0989 - val_loss: 0.0980\n",
      "1/1 [==============================] - 0s 68ms/step\n"
     ]
    }
   ],
   "source": [
    "input_img = Input(shape=(28, 28, 1))\n",
    "x = Conv2D(32, (3, 3), activation='relu', padding='same')(input_img)\n",
    "x = MaxPooling2D((2, 2), padding='same')(x)\n",
    "x = Conv2D(32, (3, 3), activation='relu', padding='same')(x)\n",
    "encoded = MaxPooling2D((2, 2), padding='same')(x)\n",
    "\n",
    "x = Conv2D(32, (3, 3), activation='relu', padding='same')(encoded)\n",
    "x = UpSampling2D((2, 2))(x)\n",
    "x = Conv2D(32, (3, 3), activation='relu', padding='same')(x)\n",
    "x = UpSampling2D((2, 2))(x)\n",
    "decoded = Conv2D(1, (3, 3), activation='sigmoid', padding='same')(x)\n",
    "\n",
    "autoencoder = Model(input_img, decoded)\n",
    "autoencoder.summary()\n",
    "autoencoder.compile(optimizer='adam', loss='binary_crossentropy')\n",
    "autoencoder.fit(x_train_noisy, x_train,\n",
    "                epochs=10,\n",
    "                batch_size=128,\n",
    "                shuffle=True,\n",
    "                validation_data=(x_test_noisy, x_test))\n",
    "\n",
    "denoised_image = autoencoder.predict(np.array([x_test_noisy[0]]))"
   ]
  },
  {
   "cell_type": "code",
   "execution_count": 22,
   "id": "f785347d",
   "metadata": {},
   "outputs": [
    {
     "data": {
      "text/plain": [
       "<matplotlib.image.AxesImage at 0x7f26c4af9af0>"
      ]
     },
     "execution_count": 22,
     "metadata": {},
     "output_type": "execute_result"
    },
    {
     "data": {
      "image/png": "[encoded data removed]",
      "text/plain": [
       "<Figure size 432x288 with 1 Axes>"
      ]
     },
     "metadata": {
      "needs_background": "light"
     },
     "output_type": "display_data"
    }
   ],
   "source": [
    "plt.imshow(x_test_noisy[0], cmap='gray_r')"
   ]
  },
  {
   "cell_type": "code",
   "execution_count": 23,
   "id": "90d655c0",
   "metadata": {},
   "outputs": [
    {
     "data": {
      "text/plain": [
       "<matplotlib.image.AxesImage at 0x7f26be75d0d0>"
      ]
     },
     "execution_count": 23,
     "metadata": {},
     "output_type": "execute_result"
    },
    {
     "data": {
      "image/png": "[encoded data removed]",
      "text/plain": [
       "<Figure size 432x288 with 1 Axes>"
      ]
     },
     "metadata": {
      "needs_background": "light"
     },
     "output_type": "display_data"
    }
   ],
   "source": [
    "plt.imshow(denoised_image[0], cmap='gray_r')"
   ]
  },
  {
   "cell_type": "code",
   "execution_count": null,
   "id": "d5d4c567",
   "metadata": {},
   "outputs": [],
   "source": []
  }
 ],
 "metadata": {
  "kernelspec": {
   "display_name": "Python 3 (ipykernel)",
   "language": "python",
   "name": "python3"
  },
  "language_info": {
   "codemirror_mode": {
    "name": "ipython",
    "version": 3
   },
   "file_extension": ".py",
   "mimetype": "text/x-python",
   "name": "python",
   "nbconvert_exporter": "python",
   "pygments_lexer": "ipython3",
   "version": "3.10.8"
  }
 },
 "nbformat": 4,
 "nbformat_minor": 5
}
